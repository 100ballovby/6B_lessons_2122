{
 "cells": [
  {
   "cell_type": "markdown",
   "metadata": {
    "collapsed": true
   },
   "source": [
    "## Циклы. Повторение\n",
    "\n",
    "<p><b>Цикл</b> - управляющая конструкция, позволяющая повторить какие-то действия определенное или неопределенное количество раз.</p>\n",
    "\n",
    "<p>По спосообу работы циклы делятся на два вида: </p>\n",
    "\n",
    "<ul>\n",
    "    <li>Счетные <code>for</code> - работает <code>n</code> количество раз;</li>\n",
    "    <li>Условный <code>while</code> - работает до наступления определенного события.</li>\n",
    "</ul>\n",
    "\n",
    "## <code>range()</code>\n",
    "\n",
    "<p>Функция <code>range()</code> - генератор <b>арифметической последовательности (АП)</b>.</p>\n",
    "\n",
    "<p>АП - набор чисел с 3 обязательными переменными: <code>start</code>, <code>stop</code>, <code>step.</code>.</p>\n",
    "\n",
    "<ul>\n",
    "    <li><code>start</code> - начало последовательности;</li> \n",
    "    <li><code>stop</code> - конец последовательности. Обычно не входит в последовательность (не включительно);</li>\n",
    "    <li><code>step</code> - то, насколько каждый следующий элемент последовательности больше предыдущего.</li>\n",
    "</ul>\n",
    "\n",
    "<p>У <code>range()</code> существует 3 варианта написания:</p>\n",
    "\n",
    "<p>1. <code>range(stop)</code> -> 0...<code>stop - 1</code>. <code>stop</code> НЕ ВХОДИТ в последовательность. <code>step = +1</code>.</p>"
   ]
  },
  {
   "cell_type": "code",
   "execution_count": 1,
   "metadata": {},
   "outputs": [
    {
     "name": "stdout",
     "output_type": "stream",
     "text": [
      "0 1 2 3 4 5 6\n"
     ]
    }
   ],
   "source": [
    "print(*range(7))"
   ]
  },
  {
   "cell_type": "markdown",
   "metadata": {},
   "source": [
    "<p>2. <code>range(start, stop)</code> -> <code>start</code>...<code>stop - 1</code>. <code>stop</code> НЕ ВХОДИТ в последовательность. <code>step = +1</code>.</p>"
   ]
  },
  {
   "cell_type": "code",
   "execution_count": 2,
   "metadata": {},
   "outputs": [
    {
     "name": "stdout",
     "output_type": "stream",
     "text": [
      "5 6 7 8 9 10 11 12 13 14\n"
     ]
    }
   ],
   "source": [
    "print(*range(5, 15))"
   ]
  },
  {
   "cell_type": "markdown",
   "metadata": {},
   "source": [
    "<p>3. <code>range(start(10), stop(15), step(2))</code> -> <code>10, 12, 14</code>. Если <code>шаг >= стоп</code>, последовательность остановится на последнем числе, <code> < stop</code></p>"
   ]
  },
  {
   "cell_type": "code",
   "execution_count": 3,
   "metadata": {},
   "outputs": [
    {
     "name": "stdout",
     "output_type": "stream",
     "text": [
      "50 55 60 65 70 75 80 85 90 95\n"
     ]
    }
   ],
   "source": [
    "print(*range(50, 100, 5))"
   ]
  },
  {
   "cell_type": "markdown",
   "metadata": {},
   "source": [
    "## <code>range()</code> в цикле <code>for</code>\n",
    "\n",
    "<p>Цикл <code>for</code> - цикл с управляющей переменной. Повторяется определенное количество раз. Управляющая переменная цикла (<code>i</code>) отвечает за подсчет количества повторений цикла. Управляющая переменная получает значения из последовательности, переданной циклу <code>for</code>. Т.о.: цикл <code>for</code> повторяется количество раз = длине последовательности, переданной ему.</p>"
   ]
  },
  {
   "cell_type": "code",
   "execution_count": 4,
   "metadata": {},
   "outputs": [
    {
     "name": "stdout",
     "output_type": "stream",
     "text": [
      "hello\n",
      "hello\n",
      "hello\n"
     ]
    }
   ],
   "source": [
    "for i in [1, 2, 3]:\n",
    "    print('hello')"
   ]
  },
  {
   "cell_type": "markdown",
   "metadata": {},
   "source": [
    "<p>Применение функции <code>range()</code> в цикле <code>for</code>.</p>"
   ]
  },
  {
   "cell_type": "code",
   "execution_count": 5,
   "metadata": {},
   "outputs": [
    {
     "name": "stdout",
     "output_type": "stream",
     "text": [
      "0, 1, 2, 3, 4, "
     ]
    }
   ],
   "source": [
    "for i in range(5):\n",
    "    print(i, end=', ')"
   ]
  },
  {
   "cell_type": "code",
   "execution_count": 6,
   "metadata": {},
   "outputs": [
    {
     "name": "stdout",
     "output_type": "stream",
     "text": [
      "10, 11, 12, 13, 14, 15, 16, 17, "
     ]
    }
   ],
   "source": [
    "for i in range(10, 18):\n",
    "    print(i, end=', ')"
   ]
  },
  {
   "cell_type": "code",
   "execution_count": 7,
   "metadata": {},
   "outputs": [
    {
     "name": "stdout",
     "output_type": "stream",
     "text": [
      "1, 3, 5, 7, 9, 11, 13, 15, 17, 19, "
     ]
    }
   ],
   "source": [
    "for i in range(1, 20, 2):\n",
    "    print(i, end=', ')"
   ]
  },
  {
   "cell_type": "markdown",
   "metadata": {},
   "source": [
    "## Объединение\n",
    "\n",
    "<p>Циклы (все) могут работать со списками. <b>Список</b> - последовательность элементов, взятая в квадратные скобки. Все элементы списка имеют индексы (порядковые номера, начинаются с 0) и элементы разделены символом <code>,</code>. Список отличается от массива тем, что в нем НЕТ ограничения по количеству данных и НЕТ ограничения по типу данных.</p>\n",
    "\n",
    "<p>Наполним список четными числами от 1 до 15:</p>"
   ]
  },
  {
   "cell_type": "code",
   "execution_count": 8,
   "metadata": {},
   "outputs": [
    {
     "name": "stdout",
     "output_type": "stream",
     "text": [
      "[2, 4, 6, 8, 10, 12, 14]\n"
     ]
    }
   ],
   "source": [
    "even = []\n",
    "\n",
    "for i in range(2, 15, 2):\n",
    "    even.append(i)\n",
    "    \n",
    "print(even)"
   ]
  },
  {
   "cell_type": "markdown",
   "metadata": {},
   "source": [
    "<p>Когда речь идет о четных/нечетных последовательностях, использовать оператор <code>if</code> <b>не нужно</b>. Шагом последовательности и стартом последовательности вы можете управлять тем, какие числа будут добавлены в список. В задаче мне пришлось немножко изменить условие: вместо <code>1</code> в старте я поставил <code>2</code> и теперь шаг <code>+2</code> формирует мне только четные числа: <code>2, (+2) 4, (+2) 6, (+2) 8, (+2) 10, (+2) 12, (+2) 14</code>.</p>\n",
    "\n",
    "<p>Так как последнее число (<code>14</code>) при добавлении к нему двойки выйдет за пределы диапазона (<code>16 > 15</code>), последовательность остановится на числе <code>14</code></p>\n",
    "\n",
    "## Вычисления\n",
    "\n",
    "<p>В теле цикла можно выполнять арифметические вычисления.</p>\n",
    "\n",
    "<p>Напишем программу, которая спрашивает у пользователя количество чисел, а затем суммирует числа, введенные пользователем.</p>"
   ]
  },
  {
   "cell_type": "code",
   "execution_count": 9,
   "metadata": {},
   "outputs": [
    {
     "name": "stdout",
     "output_type": "stream",
     "text": [
      "Сколько чисел нужно? 3\n",
      "Введите число: 5\n",
      "Введите число: 9\n",
      "Введите число: 1\n",
      "15\n"
     ]
    }
   ],
   "source": [
    "count = int(input('Сколько чисел нужно? '))\n",
    "summary = 0 # считаю сумму \n",
    "\n",
    "for i in range(count):\n",
    "    n = int(input('Введите число: '))\n",
    "    summary += n \n",
    "    \n",
    "print(summary)"
   ]
  },
  {
   "cell_type": "markdown",
   "metadata": {},
   "source": [
    "<p><code>for i in range(count)</code> означает, что количество повторений цикла задается переменной <code>count</code>. То есть количество повторений = тому числу, которое будет записано в эту переменную.</p>\n",
    "\n",
    "<p>В теле цикла я запрашиваю у пользователя число (в переменной <code>n</code>), а затем складываю каждое число, введенное пользователем, с переменной <code>summary</code>.</p>\n",
    "\n",
    "## Инкремент и декремент\n",
    "\n",
    "<p>Оператор <code>+=</code> в теле цикла - это увеличение с присваиванием значения переменной. Называется эта штука умным словом <b>инкремент</b>. Инкременты бывают разных видов. Дело в том, что увеличивать значение переменной можно не только путем сложения, но и другими операциями:</p>\n",
    "    <ul>\n",
    "    <li><code>+=</code> - сложение;</li>\n",
    "        <li><code>*=</code> - умножение;</li>\n",
    "        <li><code>**=</code> - возведение в стпень;</li>\n",
    "    </ul>\n",
    "   \n",
    "<p>Помимо инкримента есть второй оператор - уменьшение с приваиванием - <b>декремент</b>. Как и в случае с первым, есть несколько вариантов уменьшения: </p>\n",
    "<ul>\n",
    "    <li><code>-=</code> - разность;</li>\n",
    "    <li><code>/=</code> - деление;</li>\n",
    "    <li><code>//=</code> - целочисленное деление;</li>\n",
    "    <li><code>%=</code> - остаток от деления;</li>\n",
    "</ul>\n",
    "\n",
    "<p>Работают эти операторы следующим образом:</p>\n",
    "\n",
    "<p>Предположим, что у меня есть переменная <code>x</code>, которой я присвою значение <code>2</code>, а затем выполню несколько операций с инкрементом и декрементом</p>"
   ]
  },
  {
   "cell_type": "code",
   "execution_count": 10,
   "metadata": {},
   "outputs": [
    {
     "name": "stdout",
     "output_type": "stream",
     "text": [
      "12\n"
     ]
    }
   ],
   "source": [
    "x = 2\n",
    "x *= 6\n",
    "\n",
    "print(x)"
   ]
  },
  {
   "cell_type": "markdown",
   "metadata": {},
   "source": [
    "<p><code>x = 12</code>, потому что я сначала умножил его первоначальное значение на <code>6</code> и затем сохранил получившийся результат в ту же переменную.</p>"
   ]
  },
  {
   "cell_type": "code",
   "execution_count": 11,
   "metadata": {},
   "outputs": [
    {
     "name": "stdout",
     "output_type": "stream",
     "text": [
      "19\n"
     ]
    }
   ],
   "source": [
    "x += 7\n",
    "\n",
    "print(x)"
   ]
  },
  {
   "cell_type": "markdown",
   "metadata": {},
   "source": [
    "<p><code>x = 19</code>, потому что я сначала увеличил его первоначальное значение на <code>7</code> и затем сохранил получившийся результат в ту же переменную.</p>"
   ]
  },
  {
   "cell_type": "code",
   "execution_count": 12,
   "metadata": {},
   "outputs": [
    {
     "name": "stdout",
     "output_type": "stream",
     "text": [
      "16\n"
     ]
    }
   ],
   "source": [
    "x -= 3\n",
    "\n",
    "print(x)"
   ]
  },
  {
   "cell_type": "markdown",
   "metadata": {},
   "source": [
    "<p><code>x = 16</code>, потому что я сначала уменьшил его первоначальное значение на <code>3</code> и затем сохранил получившийся результат в ту же переменную.</p>"
   ]
  },
  {
   "cell_type": "code",
   "execution_count": 13,
   "metadata": {},
   "outputs": [
    {
     "name": "stdout",
     "output_type": "stream",
     "text": [
      "2.0\n"
     ]
    }
   ],
   "source": [
    "x /= 8\n",
    "\n",
    "print(x)"
   ]
  },
  {
   "cell_type": "markdown",
   "metadata": {},
   "source": [
    "<p><code>x = 2</code>, потому что я сначала разделил его первоначальное значение на <code>2</code> и затем сохранил получившийся результат в ту же переменную.</p>\n",
    "\n",
    "<p>Операторы инкремент и декремент можно и нужно использовать в том случае, когда программе необходимо выполнять промежуточные вычисления - сумма/разность/произведение/деление.</p>\n",
    "\n",
    "## Задача про факториал\n",
    "\n",
    "<p>Факториал числа <code>n</code> - произведение всех натуральных чисел от <code>1</code> до <code>n</code> включительно. Обозначается факториал <code>n!</code>. Например: <code>6! = 1 * 2 * 3 * 4 * 5 * 6 = 720</code>.</p>\n",
    "\n",
    "<p>Подробнее про факториал можно прочитать <a href=\"https://skysmart.ru/articles/mathematic/chto-takoe-faktorial-chisla\" target=\"_blank\">здесь</a>.</p>\n",
    "\n",
    "<p>Используя цикл <code>for</code> и оператор инкремент напишем программу, которая считает факториал числа, которое вводит пользователь.</p>"
   ]
  },
  {
   "cell_type": "code",
   "execution_count": 14,
   "metadata": {},
   "outputs": [
    {
     "name": "stdout",
     "output_type": "stream",
     "text": [
      "Для какого числа считаем факториал? 6\n",
      "6! = 720\n"
     ]
    }
   ],
   "source": [
    "n = int(input('Для какого числа считаем факториал? '))\n",
    "factorial = 1\n",
    "\n",
    "for i in range(1, n + 1):  # до n включительно \n",
    "    factorial *= i\n",
    "    \n",
    "print(f'{n}! = {factorial}')"
   ]
  },
  {
   "cell_type": "markdown",
   "metadata": {},
   "source": [
    "<p><code>n + 1</code> в функции <code>range()</code> нужен для того, чтобы само число <code>n</code> вошло в последовательность. В теле цикла я просто перемножаю все числа из <code>range()</code> между собой.</p>"
   ]
  },
  {
   "cell_type": "code",
   "execution_count": null,
   "metadata": {},
   "outputs": [],
   "source": []
  }
 ],
 "metadata": {
  "kernelspec": {
   "display_name": "Python 3 (ipykernel)",
   "language": "python",
   "name": "python3"
  },
  "language_info": {
   "codemirror_mode": {
    "name": "ipython",
    "version": 3
   },
   "file_extension": ".py",
   "mimetype": "text/x-python",
   "name": "python",
   "nbconvert_exporter": "python",
   "pygments_lexer": "ipython3",
   "version": "3.7.7"
  }
 },
 "nbformat": 4,
 "nbformat_minor": 1
}