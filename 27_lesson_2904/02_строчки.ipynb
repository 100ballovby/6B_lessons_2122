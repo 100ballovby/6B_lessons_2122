{
 "cells": [
  {
   "cell_type": "markdown",
   "metadata": {
    "pycharm": {
     "name": "#%%\n"
    }
   },
   "source": [
    "## Строчки\n",
    "\n",
    "<p><b>Строка (<code>class 'str'</code>)</b> - любая последовательность символов, заключенная в кавычки. Тип кавычек не имеет никакого значения, вы можете использовать <code>'</code> или <code>\"</code>.</p>\n",
    "\n",
    "<p>Строки - это индексируемые объекты. То есть у каждого символа в строке (кроме кавычек) есть свои порядковые номера - индексы. Отсчет индексов начинается с нуля.</p>"
   ]
  },
  {
   "cell_type": "code",
   "execution_count": null,
   "metadata": {
    "pycharm": {
     "name": "#%%\n"
    }
   },
   "outputs": [],
   "source": [
    "a = 'Я строка!'\n",
    "\n",
    "print(type(a))"
   ]
  },
  {
   "cell_type": "markdown",
   "metadata": {
    "pycharm": {
     "name": "#%% md\n"
    }
   },
   "source": [
    "<h3><b>Строка должна начинаться и заканчиваться одним и тем же типом кавычек.</b></h3>"
   ]
  },
  {
   "cell_type": "code",
   "execution_count": null,
   "metadata": {
    "pycharm": {
     "name": "#%%\n"
    }
   },
   "outputs": [],
   "source": [
    "b = 'Я тоже строка\""
   ]
  },
  {
   "cell_type": "markdown",
   "metadata": {
    "pycharm": {
     "name": "#%% md\n"
    }
   },
   "source": [
    "<p>Если строчка начинается и заканчивается разными типами кавычек, вы получите ошибку.</p>\n",
    "\n",
    "<hr>\n",
    "\n",
    "<p>В следующей строке будет ошибка:</p>"
   ]
  },
  {
   "cell_type": "code",
   "execution_count": null,
   "metadata": {
    "pycharm": {
     "name": "#%%\n"
    }
   },
   "outputs": [],
   "source": [
    "phrase = 'I'm a Python developer!'"
   ]
  },
  {
   "cell_type": "markdown",
   "metadata": {
    "pycharm": {
     "name": "#%% md\n"
    }
   },
   "source": [
    "<p>В примере выше Python считает, что строчка закончилась после <code>'I'</code>, а затем новая строчка началась после <code>!</code>. То, что находится между этих строк Python пытается распознать как отдельные переменные.</p>\n",
    "\n",
    "<p>Чтобы избежать подобных ошибок можно:</p>\n",
    "<ol>\n",
    "    <li>Использовать разные типы кавычек: строчка обернута двойными кавычками <code>\" \"</code>, а апостроф - одинарная кавычка.</li>\n",
    "    <li>Использовать символ экранирования - <code>\\</code>. Символ экранирования заставляет Python не читать один элемент после себя. То есть вы можете просто заигнорить одинарную кавычку после буквы I.</li>\n",
    "</ol>\n"
   ]
  },
  {
   "cell_type": "code",
   "execution_count": null,
   "metadata": {
    "pycharm": {
     "name": "#%%\n"
    }
   },
   "outputs": [],
   "source": [
    "phrase_v1 = \"I'm a Python developer\"\n",
    "\n",
    "print(phrase_v1)"
   ]
  },
  {
   "cell_type": "code",
   "execution_count": null,
   "metadata": {
    "pycharm": {
     "name": "#%%\n"
    }
   },
   "outputs": [],
   "source": [
    "phrase_v2 = 'I\\'m a Python developer!'\n",
    "\n",
    "print(phrase_v2)"
   ]
  },
  {
   "cell_type": "markdown",
   "metadata": {
    "pycharm": {
     "name": "#%% md\n"
    }
   },
   "source": [
    "<p>Использование символа экранирования хоть и спасает ситуацию, но в большинстве случаев он будет вам просто мешать, потому что его нужно ставить перед каждым символом, который вы хотите заигнорить. А если таких символов много, то вы их просто не расставите.</p>\n",
    "\n",
    "## Операции со строчками\n",
    "\n",
    "<p>Со строками, как и с другими объектами в Python, можно совершать различные операции. В том числе математического порядка.</p>\n",
    "\n",
    "### Конкатенация \n",
    "<p>Строчки можно складывать друг с другом. В этом случае две строки просто склеются в одну. Обратите внимание, что складывать строчки можно <b>только</b> со строчками. Сложить строоку с другим типом данных просто невозможно.</p>"
   ]
  },
  {
   "cell_type": "code",
   "execution_count": null,
   "metadata": {
    "pycharm": {
     "name": "#%%\n"
    }
   },
   "outputs": [],
   "source": [
    "p1 = 'ма'\n",
    "p2 = 'шина'\n",
    "\n",
    "print(p1 + p2)"
   ]
  },
  {
   "cell_type": "markdown",
   "metadata": {
    "pycharm": {
     "name": "#%% md\n"
    }
   },
   "source": [
    "### Умножение\n",
    "\n",
    "<p>Строки можно умножать. НО! Умножить строчку можно <b>только</b> на число. Потому что нельзя выполнить операцию <b><code>'Ц' * 'Ф'</code></b>.</p>\n",
    "\n",
    "<p>Когда вы умножаете строчку на число, она повторяется несколоько раз. Умножать строчки на числа можно только в Python.</p>"
   ]
  },
  {
   "cell_type": "code",
   "execution_count": null,
   "metadata": {
    "pycharm": {
     "name": "#%%\n"
    }
   },
   "outputs": [],
   "source": [
    "phrase = 'Привет, как дела?'\n",
    "\n",
    "print(phrase * 3)"
   ]
  },
  {
   "cell_type": "markdown",
   "metadata": {
    "pycharm": {
     "name": "#%% md\n"
    }
   },
   "source": [
    "<p>Операции <code>-</code> и <code>/</code> со строчками не выполняются.</p>\n",
    "\n",
    "<p>Операция разности и операция деления в принципе для компьютера является очень нежелательной. Деление само себе не логично, потому что <b>10 / 2</b> - это может быть <b>1 и 9</b>, <b>2 и 8</b>, <b>3 и 7</b> и т.д.</p>\n",
    "\n",
    "<hr>\n",
    "\n",
    "### Разрезание строк\n",
    "\n",
    "<p>Строки нельзя делить, но их можно резать. Для того, чтобы разрезать строчку, нужно поставить после переменной, которая ее хранит, квадратные скобки и указать, с какого по какой символ (указать промежуток индексов) вы хотите ее обрезать.</p>"
   ]
  },
  {
   "cell_type": "code",
   "execution_count": null,
   "metadata": {
    "pycharm": {
     "name": "#%%\n"
    }
   },
   "outputs": [],
   "source": [
    "phrase3 = 'Привет, Андрей! Зачем ты плюнул в голубей?'\n",
    "\n",
    "# вырежим слово Андрей \n",
    "print(phrase3[8:14])  # 14 символ в последовательность не входит"
   ]
  },
  {
   "cell_type": "markdown",
   "metadata": {
    "pycharm": {
     "name": "#%% md\n"
    }
   },
   "source": [
    "<p>Если вы хотите обрезать строчку с какого-то символа до конца или наоборот с начала и до какого-то символа, индексы начала или конца можно не указывать.</p>"
   ]
  },
  {
   "cell_type": "code",
   "execution_count": null,
   "metadata": {
    "pycharm": {
     "name": "#%%\n"
    }
   },
   "outputs": [],
   "source": [
    "# вырежим фразу \"Зачем ты плюнул в голубей?\". Символ З имеет индекс 16 \n",
    "print(phrase3[16:])  # если не указать индекс \"стоп\", строчка будет вырезана до конца "
   ]
  },
  {
   "cell_type": "code",
   "execution_count": null,
   "metadata": {
    "pycharm": {
     "name": "#%%\n"
    }
   },
   "outputs": [],
   "source": [
    "# вырежим фразу \"Привет, Андрей!\"\n",
    "print(phrase3[:15])"
   ]
  },
  {
   "cell_type": "markdown",
   "metadata": {
    "pycharm": {
     "name": "#%% md\n"
    }
   },
   "source": [
    "<p>Если вы не указываете начальный индекс, строчка будет резаться с самого начала. Если не указываете конечный индекс, строчка будет резаться до самого конца.</p>\n",
    "\n",
    "### Методы строк\n",
    "\n",
    "<p>У строчек есть большое количество функций, которые могут дополнять и изменять их.</p>\n",
    "\n",
    "#### Методы изменения регистра строки\n",
    "\n",
    "<ol>\n",
    "    <li><code>.title()</code> - приводит все символы в строке, кроме чисел и знаков препинания, в нижний регистр, а каждую первую букву каждого слова приводит в верхний регистр.</li>\n",
    "    <li><code>.upper()</code> - приводит все символы в строке, кроме чисел и знаков препинания, в верхний регистр (Caps Lock).</li>\n",
    "    <li><code>.lower()</code> - приводит все символы в строке, кроме чисел и знаков препинания, в нижний регистр.</li>\n",
    "</ol>"
   ]
  },
  {
   "cell_type": "code",
   "execution_count": null,
   "metadata": {
    "pycharm": {
     "name": "#%%\n"
    }
   },
   "outputs": [],
   "source": [
    "phrase4 = 'я пРишЕл к тЕбе с приВетОм!'\n",
    "\n",
    "print(f'title(): {phrase4.title()}')\n",
    "print(f'upper(): {phrase4.upper()}')\n",
    "print(f'lower(): {phrase4.lower()}')"
   ]
  },
  {
   "cell_type": "markdown",
   "metadata": {
    "pycharm": {
     "name": "#%% md\n"
    }
   },
   "source": [
    "<p>В отличие от большого количества методов, методы <code><b>.lower()</b></code> и <code><b>.upper()</b></code> используются достаточно часто в реальной разработке.</p>\n",
    "\n",
    "#### Сравнение строк\n",
    "\n",
    "<p>Строки можно сравнивать. Сравниваются строки по позициям букв в алфавите и по регистру этих самых букв.</p>"
   ]
  },
  {
   "cell_type": "code",
   "execution_count": null,
   "metadata": {
    "pycharm": {
     "name": "#%%\n"
    }
   },
   "outputs": [],
   "source": [
    "print('elephant' < 'mouse')"
   ]
  },
  {
   "cell_type": "markdown",
   "metadata": {
    "pycharm": {
     "name": "#%% md\n"
    }
   },
   "source": [
    "<p>Я получаю <code><b>True</b></code>, потому что позиция буквы <code><b>e</b></code> в алфавите меньше позиции буквы <code><b>m</b></code>.</p>"
   ]
  },
  {
   "cell_type": "code",
   "execution_count": null,
   "metadata": {
    "pycharm": {
     "name": "#%%\n"
    }
   },
   "outputs": [],
   "source": [
    "email = 'greatraksin@icloud.com'\n",
    "email2 = 'GreatRaksin@iCloud.com'\n",
    "\n",
    "print(email == email2)"
   ]
  },
  {
   "cell_type": "markdown",
   "metadata": {
    "pycharm": {
     "name": "#%% md\n"
    }
   },
   "source": [
    "<p>Я получаю <code><b>False</b></code>, потому что регистр букв в первом email отличается от регистра букв во втором email. Соответсвенно, я могу предположить, что это два разных email'а.</p>\n",
    "\n",
    "<p>Чтобы избавиться от такой ситуации, используется метод <code><b>.lower()</b></code>.</p>"
   ]
  },
  {
   "cell_type": "code",
   "execution_count": null,
   "metadata": {
    "pycharm": {
     "name": "#%%\n"
    }
   },
   "outputs": [],
   "source": [
    "print(email == email2.lower())"
   ]
  },
  {
   "cell_type": "code",
   "execution_count": null,
   "outputs": [],
   "source": [
    "phrase_v2 = 'I\\'m a Python developer!'\n",
    "\n",
    "print(phrase_v2)"
   ],
   "metadata": {
    "collapsed": false,
    "pycharm": {
     "name": "#%%\n"
    }
   }
  },
  {
   "cell_type": "markdown",
   "source": [
    "<p>Использование символа экранирования хоть и спасает ситуацию, но в большинстве случаев он будет вам просто мешать, потому что его нужно ставить перед каждым символом, который вы хотите заигнорить. А если таких символов много, то вы их просто не расставите.</p>\n",
    "\n",
    "## Операции со строчками\n",
    "\n",
    "<p>Со строками, как и с другими объектами в Python, можно совершать различные операции. В том числе математического порядка.</p>\n",
    "\n",
    "### Конкатенация \n",
    "<p>Строчки можно складывать друг с другом. В этом случае две строки просто склеются в одну. Обратите внимание, что складывать строчки можно <b>только</b> со строчками. Сложить строоку с другим типом данных просто невозможно.</p>"
   ],
   "metadata": {
    "collapsed": false,
    "pycharm": {
     "name": "#%% md\n"
    }
   }
  },
  {
   "cell_type": "code",
   "execution_count": null,
   "outputs": [],
   "source": [
    "p1 = 'ма'\n",
    "p2 = 'шина'\n",
    "\n",
    "print(p1 + p2)"
   ],
   "metadata": {
    "collapsed": false,
    "pycharm": {
     "name": "#%%\n"
    }
   }
  },
  {
   "cell_type": "markdown",
   "source": [
    "### Умножение\n",
    "\n",
    "<p>Строки можно умножать. НО! Умножить строчку можно <b>только</b> на число. Потому что нельзя выполнить операцию <b><code>'Ц' * 'Ф'</code></b>.</p>\n",
    "\n",
    "<p>Когда вы умножаете строчку на число, она повторяется несколоько раз. Умножать строчки на числа можно только в Python.</p>"
   ],
   "metadata": {
    "collapsed": false,
    "pycharm": {
     "name": "#%% md\n"
    }
   }
  },
  {
   "cell_type": "code",
   "execution_count": null,
   "outputs": [],
   "source": [
    "phrase = 'Привет, как дела?'\n",
    "\n",
    "print(phrase * 3)"
   ],
   "metadata": {
    "collapsed": false,
    "pycharm": {
     "name": "#%%\n"
    }
   }
  },
  {
   "cell_type": "markdown",
   "source": [
    "<p>Операции <code>-</code> и <code>/</code> со строчками не выполняются.</p>\n",
    "\n",
    "<p>Операция разности и операция деления в принципе для компьютера является очень нежелательной. Деление само себе не логично, потому что <b>10 / 2</b> - это может быть <b>1 и 9</b>, <b>2 и 8</b>, <b>3 и 7</b> и т.д.</p>\n",
    "\n",
    "<hr>\n",
    "\n",
    "### Разрезание строк\n",
    "\n",
    "<p>Строки нельзя делить, но их можно резать. Для того, чтобы разрезать строчку, нужно поставить после переменной, которая ее хранит, квадратные скобки и указать, с какого по какой символ (указать промежуток индексов) вы хотите ее обрезать.</p>"
   ],
   "metadata": {
    "collapsed": false,
    "pycharm": {
     "name": "#%% md\n"
    }
   }
  },
  {
   "cell_type": "code",
   "execution_count": null,
   "outputs": [],
   "source": [
    "phrase3 = 'Привет, Андрей! Зачем ты плюнул в голубей?'\n",
    "\n",
    "# вырежим слово Андрей \n",
    "print(phrase3[8:14])  # 14 символ в последовательность не входит"
   ],
   "metadata": {
    "collapsed": false,
    "pycharm": {
     "name": "#%%\n"
    }
   }
  },
  {
   "cell_type": "markdown",
   "source": [
    "<p>Если вы хотите обрезать строчку с какого-то символа до конца или наоборот с начала и до какого-то символа, индексы начала или конца можно не указывать.</p>"
   ],
   "metadata": {
    "collapsed": false,
    "pycharm": {
     "name": "#%% md\n"
    }
   }
  },
  {
   "cell_type": "code",
   "execution_count": null,
   "outputs": [],
   "source": [
    "# вырежим фразу \"Зачем ты плюнул в голубей?\". Символ З имеет индекс 16 \n",
    "print(phrase3[16:])  # если не указать индекс \"стоп\", строчка будет вырезана до конца "
   ],
   "metadata": {
    "collapsed": false,
    "pycharm": {
     "name": "#%%\n"
    }
   }
  },
  {
   "cell_type": "code",
   "execution_count": null,
   "outputs": [],
   "source": [
    "# вырежим фразу \"Привет, Андрей!\"\n",
    "print(phrase3[:15])"
   ],
   "metadata": {
    "collapsed": false,
    "pycharm": {
     "name": "#%%\n"
    }
   }
  },
  {
   "cell_type": "markdown",
   "source": [
    "<p>Если вы не указываете начальный индекс, строчка будет резаться с самого начала. Если не указываете конечный индекс, строчка будет резаться до самого конца.</p>\n",
    "\n",
    "### Методы строк\n",
    "\n",
    "<p>У строчек есть большое количество функций, которые могут дополнять и изменять их.</p>\n",
    "\n",
    "#### Методы изменения регистра строки\n",
    "\n",
    "<ol>\n",
    "    <li><code>.title()</code> - приводит все символы в строке, кроме чисел и знаков препинания, в нижний регистр, а каждую первую букву каждого слова приводит в верхний регистр.</li>\n",
    "    <li><code>.upper()</code> - приводит все символы в строке, кроме чисел и знаков препинания, в верхний регистр (Caps Lock).</li>\n",
    "    <li><code>.lower()</code> - приводит все символы в строке, кроме чисел и знаков препинания, в нижний регистр.</li>\n",
    "</ol>"
   ],
   "metadata": {
    "collapsed": false,
    "pycharm": {
     "name": "#%% md\n"
    }
   }
  },
  {
   "cell_type": "code",
   "execution_count": null,
   "outputs": [],
   "source": [
    "phrase4 = 'я пРишЕл к тЕбе с приВетОм!'\n",
    "\n",
    "print(f'title(): {phrase4.title()}')\n",
    "print(f'upper(): {phrase4.upper()}')\n",
    "print(f'lower(): {phrase4.lower()}')"
   ],
   "metadata": {
    "collapsed": false,
    "pycharm": {
     "name": "#%%\n"
    }
   }
  },
  {
   "cell_type": "markdown",
   "source": [
    "<p>В отличие от большого количества методов, методы <code><b>.lower()</b></code> и <code><b>.upper()</b></code> используются достаточно часто в реальной разработке.</p>\n",
    "\n",
    "#### Сравнение строк\n",
    "\n",
    "<p>Строки можно сравнивать. Сравниваются строки по позициям букв в алфавите и по регистру этих самых букв.</p>"
   ],
   "metadata": {
    "collapsed": false,
    "pycharm": {
     "name": "#%% md\n"
    }
   }
  },
  {
   "cell_type": "code",
   "execution_count": null,
   "outputs": [],
   "source": [
    "print('elephant' < 'mouse')"
   ],
   "metadata": {
    "collapsed": false,
    "pycharm": {
     "name": "#%%\n"
    }
   }
  },
  {
   "cell_type": "markdown",
   "source": [
    "<p>Я получаю <code><b>True</b></code>, потому что позиция буквы <code><b>e</b></code> в алфавите меньше позиции буквы <code><b>m</b></code>.</p>"
   ],
   "metadata": {
    "collapsed": false,
    "pycharm": {
     "name": "#%% md\n"
    }
   }
  },
  {
   "cell_type": "code",
   "execution_count": null,
   "outputs": [],
   "source": [
    "email = 'greatraksin@icloud.com'\n",
    "email2 = 'GreatRaksin@iCloud.com'\n",
    "\n",
    "print(email == email2)"
   ],
   "metadata": {
    "collapsed": false,
    "pycharm": {
     "name": "#%%\n"
    }
   }
  },
  {
   "cell_type": "markdown",
   "source": [
    "<p>Я получаю <code><b>False</b></code>, потому что регистр букв в первом email отличается от регистра букв во втором email. Соответсвенно, я могу предположить, что это два разных email'а.</p>\n",
    "\n",
    "<p>Чтобы избавиться от такой ситуации, используется метод <code><b>.lower()</b></code>.</p>"
   ],
   "metadata": {
    "collapsed": false,
    "pycharm": {
     "name": "#%% md\n"
    }
   }
  },
  {
   "cell_type": "code",
   "execution_count": null,
   "outputs": [],
   "source": [
    "print(email == email2.lower())"
   ],
   "metadata": {
    "collapsed": false,
    "pycharm": {
     "name": "#%%\n"
    }
   }
  },
  {
   "cell_type": "code",
   "execution_count": 7,
   "metadata": {},
   "outputs": [
    {
     "name": "stdout",
     "output_type": "stream",
     "text": [
      "I'm a Python developer!\n"
     ]
    }
   ],
   "source": [
    "phrase_v2 = 'I\\'m a Python developer!'\n",
    "\n",
    "print(phrase_v2)"
   ]
  },
  {
   "cell_type": "markdown",
   "metadata": {},
   "source": [
    "<p>Использование символа экранирования хоть и спасает ситуацию, но в большинстве случаев он будет вам просто мешать, потому что его нужно ставить перед каждым символом, который вы хотите заигнорить. А если таких символов много, то вы их просто не расставите.</p>\n",
    "\n",
    "## Операции со строчками\n",
    "\n",
    "<p>Со строками, как и с другими объектами в Python, можно совершать различные операции. В том числе математического порядка.</p>\n",
    "\n",
    "### Конкатенация \n",
    "<p>Строчки можно складывать друг с другом. В этом случае две строки просто склеются в одну. Обратите внимание, что складывать строчки можно <b>только</b> со строчками. Сложить строоку с другим типом данных просто невозможно.</p>"
   ]
  },
  {
   "cell_type": "code",
   "execution_count": 8,
   "metadata": {},
   "outputs": [
    {
     "name": "stdout",
     "output_type": "stream",
     "text": [
      "машина\n"
     ]
    }
   ],
   "source": [
    "p1 = 'ма'\n",
    "p2 = 'шина'\n",
    "\n",
    "print(p1 + p2)"
   ]
  },
  {
   "cell_type": "markdown",
   "metadata": {},
   "source": [
    "### Умножение\n",
    "\n",
    "<p>Строки можно умножать. НО! Умножить строчку можно <b>только</b> на число. Потому что нельзя выполнить операцию <b><code>'Ц' * 'Ф'</code></b>.</p>\n",
    "\n",
    "<p>Когда вы умножаете строчку на число, она повторяется несколоько раз. Умножать строчки на числа можно только в Python.</p>"
   ]
  },
  {
   "cell_type": "code",
   "execution_count": 10,
   "metadata": {},
   "outputs": [
    {
     "name": "stdout",
     "output_type": "stream",
     "text": [
      "Привет, как дела?Привет, как дела?Привет, как дела?\n"
     ]
    }
   ],
   "source": [
    "phrase = 'Привет, как дела?'\n",
    "\n",
    "print(phrase * 3)"
   ]
  },
  {
   "cell_type": "markdown",
   "metadata": {},
   "source": [
    "<p>Операции <code>-</code> и <code>/</code> со строчками не выполняются.</p>\n",
    "\n",
    "<p>Операция разности и операция деления в принципе для компьютера является очень нежелательной. Деление само себе не логично, потому что <b>10 / 2</b> - это может быть <b>1 и 9</b>, <b>2 и 8</b>, <b>3 и 7</b> и т.д.</p>\n",
    "\n",
    "<hr>\n",
    "\n",
    "### Разрезание строк\n",
    "\n",
    "<p>Строки нельзя делить, но их можно резать. Для того, чтобы разрезать строчку, нужно поставить после переменной, которая ее хранит, квадратные скобки и указать, с какого по какой символ (указать промежуток индексов) вы хотите ее обрезать.</p>"
   ]
  },
  {
   "cell_type": "code",
   "execution_count": 13,
   "metadata": {},
   "outputs": [
    {
     "name": "stdout",
     "output_type": "stream",
     "text": [
      "Андрей\n"
     ]
    }
   ],
   "source": [
    "phrase3 = 'Привет, Андрей! Зачем ты плюнул в голубей?'\n",
    "\n",
    "# вырежим слово Андрей \n",
    "print(phrase3[8:14])  # 14 символ в последовательность не входит"
   ]
  },
  {
   "cell_type": "markdown",
   "metadata": {},
   "source": [
    "<p>Если вы хотите обрезать строчку с какого-то символа до конца или наоборот с начала и до какого-то символа, индексы начала или конца можно не указывать.</p>"
   ]
  },
  {
   "cell_type": "code",
   "execution_count": 15,
   "metadata": {},
   "outputs": [
    {
     "name": "stdout",
     "output_type": "stream",
     "text": [
      "Зачем ты плюнул в голубей?\n"
     ]
    }
   ],
   "source": [
    "# вырежим фразу \"Зачем ты плюнул в голубей?\". Символ З имеет индекс 16 \n",
    "print(phrase3[16:])  # если не указать индекс \"стоп\", строчка будет вырезана до конца "
   ]
  },
  {
   "cell_type": "code",
   "execution_count": 16,
   "metadata": {},
   "outputs": [
    {
     "name": "stdout",
     "output_type": "stream",
     "text": [
      "Привет, Андрей!\n"
     ]
    }
   ],
   "source": [
    "# вырежим фразу \"Привет, Андрей!\"\n",
    "print(phrase3[:15])"
   ]
  },
  {
   "cell_type": "markdown",
   "metadata": {},
   "source": [
    "<p>Если вы не указываете начальный индекс, строчка будет резаться с самого начала. Если не указываете конечный индекс, строчка будет резаться до самого конца.</p>\n",
    "\n",
    "### Методы строк\n",
    "\n",
    "<p>У строчек есть большое количество функций, которые могут дополнять и изменять их.</p>\n",
    "\n",
    "#### Методы изменения регистра строки\n",
    "\n",
    "<ol>\n",
    "    <li><code>.title()</code> - приводит все символы в строке, кроме чисел и знаков препинания, в нижний регистр, а каждую первую букву каждого слова приводит в верхний регистр.</li>\n",
    "    <li><code>.upper()</code> - приводит все символы в строке, кроме чисел и знаков препинания, в верхний регистр (Caps Lock).</li>\n",
    "    <li><code>.lower()</code> - приводит все символы в строке, кроме чисел и знаков препинания, в нижний регистр.</li>\n",
    "</ol>"
   ]
  },
  {
   "cell_type": "code",
   "execution_count": 21,
   "metadata": {},
   "outputs": [
    {
     "name": "stdout",
     "output_type": "stream",
     "text": [
      "title(): Я Пришел К Тебе С Приветом!\n",
      "upper(): Я ПРИШЕЛ К ТЕБЕ С ПРИВЕТОМ!\n",
      "lower(): я пришел к тебе с приветом!\n"
     ]
    }
   ],
   "source": [
    "phrase4 = 'я пРишЕл к тЕбе с приВетОм!'\n",
    "\n",
    "print(f'title(): {phrase4.title()}')\n",
    "print(f'upper(): {phrase4.upper()}')\n",
    "print(f'lower(): {phrase4.lower()}')"
   ]
  },
  {
   "cell_type": "markdown",
   "metadata": {},
   "source": [
    "<p>В отличие от большого количества методов, методы <code><b>.lower()</b></code> и <code><b>.upper()</b></code> используются достаточно часто в реальной разработке.</p>\n",
    "\n",
    "#### Сравнение строк\n",
    "\n",
    "<p>Строки можно сравнивать. Сравниваются строки по позициям букв в алфавите и по регистру этих самых букв.</p>"
   ]
  },
  {
   "cell_type": "code",
   "execution_count": 22,
   "metadata": {},
   "outputs": [
    {
     "name": "stdout",
     "output_type": "stream",
     "text": [
      "True\n"
     ]
    }
   ],
   "source": [
    "print('elephant' < 'mouse')"
   ]
  },
  {
   "cell_type": "markdown",
   "metadata": {},
   "source": [
    "<p>Я получаю <code><b>True</b></code>, потому что позиция буквы <code><b>e</b></code> в алфавите меньше позиции буквы <code><b>m</b></code>.</p>"
   ]
  },
  {
   "cell_type": "code",
   "execution_count": 23,
   "metadata": {},
   "outputs": [
    {
     "name": "stdout",
     "output_type": "stream",
     "text": [
      "False\n"
     ]
    }
   ],
   "source": [
    "email = 'greatraksin@icloud.com'\n",
    "email2 = 'GreatRaksin@iCloud.com'\n",
    "\n",
    "print(email == email2)"
   ]
  },
  {
   "cell_type": "markdown",
   "metadata": {},
   "source": [
    "<p>Я получаю <code><b>False</b></code>, потому что регистр букв в первом email отличается от регистра букв во втором email. Соответсвенно, я могу предположить, что это два разных email'а.</p>\n",
    "\n",
    "<p>Чтобы избавиться от такой ситуации, используется метод <code><b>.lower()</b></code>.</p>"
   ]
  },
  {
   "cell_type": "code",
   "execution_count": 24,
   "metadata": {},
   "outputs": [
    {
     "name": "stdout",
     "output_type": "stream",
     "text": [
      "True\n"
     ]
    }
   ],
   "source": [
    "print(email == email2.lower())"
   ]
  }
 ],
 "metadata": {
  "kernelspec": {
   "display_name": "Python 3 (ipykernel)",
   "language": "python",
   "name": "python3"
  },
  "language_info": {
   "codemirror_mode": {
    "name": "ipython",
    "version": 3
   },
   "file_extension": ".py",
   "mimetype": "text/x-python",
   "name": "python",
   "nbconvert_exporter": "python",
   "pygments_lexer": "ipython3",
   "version": "3.10.4"
  }
 },
 "nbformat": 4,
 "nbformat_minor": 1
}