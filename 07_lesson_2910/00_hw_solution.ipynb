{
 "cells": [
  {
   "cell_type": "markdown",
   "metadata": {
    "collapsed": true,
    "pycharm": {
     "is_executing": true
    }
   },
   "source": [
    "## Домашняя задача\n",
    "\n",
    "<p>Напишите программу, которая наполняет список случайными четными числами. Количество чисел в списке и диапазон должны задаваться через <code>input()</code>.</p>\n",
    "\n",
    "<p>Вариант решения <b>ваш</b>:</p>"
   ]
  },
  {
   "cell_type": "code",
   "execution_count": 2,
   "metadata": {},
   "outputs": [
    {
     "name": "stdout",
     "output_type": "stream",
     "text": [
      "Введите начало диапазона: 1\n",
      "Введите конец диапазона: 100\n",
      "Введите количество чисел: 5\n",
      "[42, 34, 48, 8]\n"
     ]
    }
   ],
   "source": [
    "import random as r \n",
    "\n",
    "start = int(input('Введите начало диапазона: '))\n",
    "stop = int(input('Введите конец диапазона: '))\n",
    "count = int(input('Введите количество чисел: '))\n",
    "\n",
    "r_list = []\n",
    "\n",
    "for i in range(count):\n",
    "    r_int = r.randint(start, stop)  # генерирую случайное число в заданном диапазоне \n",
    "    if r_int % 2 == 0:  # проверка на четность \n",
    "        r_list.append(r_int)\n",
    "        \n",
    "print(r_list)"
   ]
  },
  {
   "cell_type": "markdown",
   "metadata": {},
   "source": [
    "<p>Программа работает, но я все равно не получаю то количество чисел в списке, которое мне было необходимо. Проблема в том, что циклу <code>for</code> совершенно все равно: получили вы все числа или не получили их. Ему сказано: работай <code>count</code> раз. Каждое повторение цикла дает вам какое-то случайное число в диапазоне. Но не обязательно, что это число будет четным. Поэтому в данном случае логичнее использовать условный цикл <code>while</code>. В условии я буду проверять длину списка. И если она меньше, чем та, которая мне нужна, цикл будет продолжать работать.</p>"
   ]
  },
  {
   "cell_type": "code",
   "execution_count": 3,
   "metadata": {},
   "outputs": [
    {
     "name": "stdout",
     "output_type": "stream",
     "text": [
      "Введите начало диапазона: 1\n",
      "Введите конец диапазона: 100\n",
      "Введите количество чисел: 5\n",
      "[76, 80, 14, 46, 24, 30]\n"
     ]
    }
   ],
   "source": [
    "import random as r \n",
    "\n",
    "start = int(input('Введите начало диапазона: '))\n",
    "stop = int(input('Введите конец диапазона: '))\n",
    "count = int(input('Введите количество чисел: '))\n",
    "\n",
    "r_list = []\n",
    "\n",
    "while len(r_list) <= count:  # пока количество чисел в списке не совпадает с тем, которое нужно нам\n",
    "    r_int = r.randint(start, stop)  # генерирую случайное число в заданном диапазоне \n",
    "    if r_int % 2 == 0:  # проверка на четность \n",
    "        r_list.append(r_int)  # добавляю в список\n",
    "        \n",
    "print(r_list)"
   ]
  },
  {
   "cell_type": "markdown",
   "metadata": {},
   "source": [
    "<p>Функция <code>len(x)</code> измеряет длину объекта <code>x</code> и возвращает число.</p>"
   ]
  },
  {
   "cell_type": "code",
   "execution_count": 4,
   "metadata": {},
   "outputs": [
    {
     "name": "stdout",
     "output_type": "stream",
     "text": [
      "6\n"
     ]
    }
   ],
   "source": [
    "print(len('привет'))"
   ]
  }
 ],
 "metadata": {
  "kernelspec": {
   "display_name": "Python 3 (ipykernel)",
   "language": "python",
   "name": "python3"
  },
  "language_info": {
   "codemirror_mode": {
    "name": "ipython",
    "version": 3
   },
   "file_extension": ".py",
   "mimetype": "text/x-python",
   "name": "python",
   "nbconvert_exporter": "python",
   "pygments_lexer": "ipython3",
   "version": "3.7.7"
  }
 },
 "nbformat": 4,
 "nbformat_minor": 1
}